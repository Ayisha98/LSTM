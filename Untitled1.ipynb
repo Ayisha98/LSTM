{
  "nbformat": 4,
  "nbformat_minor": 0,
  "metadata": {
    "colab": {
      "name": "Untitled1.ipynb",
      "provenance": []
    },
    "kernelspec": {
      "name": "python3",
      "display_name": "Python 3"
    }
  },
  "cells": [
    {
      "cell_type": "markdown",
      "metadata": {
        "id": "LVKXA-eLhk5p"
      },
      "source": [
        ""
      ]
    },
    {
      "cell_type": "code",
      "metadata": {
        "id": "bBjPTKmTkb0T"
      },
      "source": [
        "import pandas_datareader as pdr\n",
        "import pandas as pd\n",
        "import matplotlib.pyplot as plt\n",
        "#from easygui import fileopenbox\n",
        "import numpy as np"
      ],
      "execution_count": 1,
      "outputs": []
    },
    {
      "cell_type": "code",
      "metadata": {
        "id": "JUF_i88eZmHe"
      },
      "source": [
        "df_1 = pdr.get_data_tiingo('GOOGL',api_key=key)"
      ],
      "execution_count": 4,
      "outputs": []
    },
    {
      "cell_type": "code",
      "metadata": {
        "id": "ZXH5-aWjXokI",
        "colab": {
          "base_uri": "https://localhost:8080/",
          "height": 235
        },
        "outputId": "4282b157-ac52-4491-e690-77d4ee057502"
      },
      "source": [
        "df_1.head()"
      ],
      "execution_count": 5,
      "outputs": [
        {
          "output_type": "execute_result",
          "data": {
            "text/html": [
              "<div>\n",
              "<style scoped>\n",
              "    .dataframe tbody tr th:only-of-type {\n",
              "        vertical-align: middle;\n",
              "    }\n",
              "\n",
              "    .dataframe tbody tr th {\n",
              "        vertical-align: top;\n",
              "    }\n",
              "\n",
              "    .dataframe thead th {\n",
              "        text-align: right;\n",
              "    }\n",
              "</style>\n",
              "<table border=\"1\" class=\"dataframe\">\n",
              "  <thead>\n",
              "    <tr style=\"text-align: right;\">\n",
              "      <th></th>\n",
              "      <th></th>\n",
              "      <th>close</th>\n",
              "      <th>high</th>\n",
              "      <th>low</th>\n",
              "      <th>open</th>\n",
              "      <th>volume</th>\n",
              "      <th>adjClose</th>\n",
              "      <th>adjHigh</th>\n",
              "      <th>adjLow</th>\n",
              "      <th>adjOpen</th>\n",
              "      <th>adjVolume</th>\n",
              "      <th>divCash</th>\n",
              "      <th>splitFactor</th>\n",
              "    </tr>\n",
              "    <tr>\n",
              "      <th>symbol</th>\n",
              "      <th>date</th>\n",
              "      <th></th>\n",
              "      <th></th>\n",
              "      <th></th>\n",
              "      <th></th>\n",
              "      <th></th>\n",
              "      <th></th>\n",
              "      <th></th>\n",
              "      <th></th>\n",
              "      <th></th>\n",
              "      <th></th>\n",
              "      <th></th>\n",
              "      <th></th>\n",
              "    </tr>\n",
              "  </thead>\n",
              "  <tbody>\n",
              "    <tr>\n",
              "      <th rowspan=\"5\" valign=\"top\">GOOGL</th>\n",
              "      <th>2016-04-14 00:00:00+00:00</th>\n",
              "      <td>775.39</td>\n",
              "      <td>779.61</td>\n",
              "      <td>773.2200</td>\n",
              "      <td>775.36</td>\n",
              "      <td>1349610</td>\n",
              "      <td>775.39</td>\n",
              "      <td>779.61</td>\n",
              "      <td>773.2200</td>\n",
              "      <td>775.36</td>\n",
              "      <td>1349610</td>\n",
              "      <td>0.0</td>\n",
              "      <td>1.0</td>\n",
              "    </tr>\n",
              "    <tr>\n",
              "      <th>2016-04-15 00:00:00+00:00</th>\n",
              "      <td>780.00</td>\n",
              "      <td>780.93</td>\n",
              "      <td>774.9301</td>\n",
              "      <td>775.50</td>\n",
              "      <td>1585584</td>\n",
              "      <td>780.00</td>\n",
              "      <td>780.93</td>\n",
              "      <td>774.9301</td>\n",
              "      <td>775.50</td>\n",
              "      <td>1585584</td>\n",
              "      <td>0.0</td>\n",
              "      <td>1.0</td>\n",
              "    </tr>\n",
              "    <tr>\n",
              "      <th>2016-04-18 00:00:00+00:00</th>\n",
              "      <td>787.68</td>\n",
              "      <td>788.55</td>\n",
              "      <td>777.6100</td>\n",
              "      <td>780.19</td>\n",
              "      <td>1677015</td>\n",
              "      <td>787.68</td>\n",
              "      <td>788.55</td>\n",
              "      <td>777.6100</td>\n",
              "      <td>780.19</td>\n",
              "      <td>1677015</td>\n",
              "      <td>0.0</td>\n",
              "      <td>1.0</td>\n",
              "    </tr>\n",
              "    <tr>\n",
              "      <th>2016-04-19 00:00:00+00:00</th>\n",
              "      <td>776.25</td>\n",
              "      <td>790.95</td>\n",
              "      <td>770.2700</td>\n",
              "      <td>790.50</td>\n",
              "      <td>2197615</td>\n",
              "      <td>776.25</td>\n",
              "      <td>790.95</td>\n",
              "      <td>770.2700</td>\n",
              "      <td>790.50</td>\n",
              "      <td>2197615</td>\n",
              "      <td>0.0</td>\n",
              "      <td>1.0</td>\n",
              "    </tr>\n",
              "    <tr>\n",
              "      <th>2016-04-20 00:00:00+00:00</th>\n",
              "      <td>774.92</td>\n",
              "      <td>779.66</td>\n",
              "      <td>771.2700</td>\n",
              "      <td>779.16</td>\n",
              "      <td>1713088</td>\n",
              "      <td>774.92</td>\n",
              "      <td>779.66</td>\n",
              "      <td>771.2700</td>\n",
              "      <td>779.16</td>\n",
              "      <td>1713088</td>\n",
              "      <td>0.0</td>\n",
              "      <td>1.0</td>\n",
              "    </tr>\n",
              "  </tbody>\n",
              "</table>\n",
              "</div>"
            ],
            "text/plain": [
              "                                   close    high  ...  divCash  splitFactor\n",
              "symbol date                                       ...                      \n",
              "GOOGL  2016-04-14 00:00:00+00:00  775.39  779.61  ...      0.0          1.0\n",
              "       2016-04-15 00:00:00+00:00  780.00  780.93  ...      0.0          1.0\n",
              "       2016-04-18 00:00:00+00:00  787.68  788.55  ...      0.0          1.0\n",
              "       2016-04-19 00:00:00+00:00  776.25  790.95  ...      0.0          1.0\n",
              "       2016-04-20 00:00:00+00:00  774.92  779.66  ...      0.0          1.0\n",
              "\n",
              "[5 rows x 12 columns]"
            ]
          },
          "metadata": {
            "tags": []
          },
          "execution_count": 5
        }
      ]
    },
    {
      "cell_type": "code",
      "metadata": {
        "colab": {
          "base_uri": "https://localhost:8080/"
        },
        "id": "_6w---ZylgM_",
        "outputId": "d8a9c7fa-0231-4a31-e5a7-495bdb560bf4"
      },
      "source": [
        "df_1.shape"
      ],
      "execution_count": 6,
      "outputs": [
        {
          "output_type": "execute_result",
          "data": {
            "text/plain": [
              "(1257, 12)"
            ]
          },
          "metadata": {
            "tags": []
          },
          "execution_count": 6
        }
      ]
    },
    {
      "cell_type": "code",
      "metadata": {
        "id": "erAseCKbX7eE"
      },
      "source": [
        "series = df_1.reset_index()['close']"
      ],
      "execution_count": 8,
      "outputs": []
    },
    {
      "cell_type": "code",
      "metadata": {
        "colab": {
          "base_uri": "https://localhost:8080/",
          "height": 282
        },
        "id": "Bse8VbVv_ymb",
        "outputId": "b8169eb0-51dd-4c0e-b202-d4847d902734"
      },
      "source": [
        "series.plot()"
      ],
      "execution_count": 9,
      "outputs": [
        {
          "output_type": "execute_result",
          "data": {
            "text/plain": [
              "<matplotlib.axes._subplots.AxesSubplot at 0x7f7329029250>"
            ]
          },
          "metadata": {
            "tags": []
          },
          "execution_count": 9
        },
        {
          "output_type": "display_data",
          "data": {
            "image/png": "[encoded data removed]",
            "text/plain": [
              "<Figure size 432x288 with 1 Axes>"
            ]
          },
          "metadata": {
            "tags": [],
            "needs_background": "light"
          }
        }
      ]
    },
    {
      "cell_type": "code",
      "metadata": {
        "id": "Cd-sB_ArX_Dr"
      },
      "source": [
        "from sklearn.preprocessing import MinMaxScaler\n",
        "from tensorflow.keras.models import Sequential\n",
        "from tensorflow.keras.layers import Dense\n",
        "from tensorflow.keras.layers import LSTM"
      ],
      "execution_count": 10,
      "outputs": []
    },
    {
      "cell_type": "code",
      "metadata": {
        "id": "LGd68zSyYuCp"
      },
      "source": [
        "scaler = MinMaxScaler(feature_range = (0,1))\n",
        "series = scaler.fit_transform(np.array(series).reshape(-1,1))"
      ],
      "execution_count": 11,
      "outputs": []
    },
    {
      "cell_type": "code",
      "metadata": {
        "id": "rGPy18TIk7pU",
        "colab": {
          "base_uri": "https://localhost:8080/"
        },
        "outputId": "bbaeb7bf-538e-4f99-e557-4e27810e6d32"
      },
      "source": [
        "series"
      ],
      "execution_count": 12,
      "outputs": [
        {
          "output_type": "execute_result",
          "data": {
            "text/plain": [
              "array([[0.05929426],\n",
              "       [0.06219449],\n",
              "       [0.0670261 ],\n",
              "       ...,\n",
              "       [0.98726668],\n",
              "       [1.        ],\n",
              "       [0.98361151]])"
            ]
          },
          "metadata": {
            "tags": []
          },
          "execution_count": 12
        }
      ]
    },
    {
      "cell_type": "code",
      "metadata": {
        "id": "jog8rs_0Y3Il"
      },
      "source": [
        "#Splitting the data into train and test data\n",
        "train = int(len(series)*0.65)\n",
        "test = len(series) - train\n",
        "train_data , test_data = series[0:train,:], series[train:len(series),:1]"
      ],
      "execution_count": 13,
      "outputs": []
    },
    {
      "cell_type": "code",
      "metadata": {
        "colab": {
          "base_uri": "https://localhost:8080/"
        },
        "id": "m_KkZzTek9ug",
        "outputId": "f79c1c11-4a31-40f4-adf1-2d9f519ec075"
      },
      "source": [
        "series.shape"
      ],
      "execution_count": 15,
      "outputs": [
        {
          "output_type": "execute_result",
          "data": {
            "text/plain": [
              "(1257, 1)"
            ]
          },
          "metadata": {
            "tags": []
          },
          "execution_count": 15
        }
      ]
    },
    {
      "cell_type": "code",
      "metadata": {
        "id": "0n5_xIwaZPvP"
      },
      "source": [
        "def create_dataset(dataset, time_step=1):\n",
        "    dataX , dataY = [], []\n",
        "    for i in range(len(dataset)-time_step-1):\n",
        "        a = dataset[i:(i+time_step),0]\n",
        "        dataX.append(a)\n",
        "        dataY.append(dataset[i + time_step, 0])\n",
        "    return np.array(dataX), np.array(dataY)"
      ],
      "execution_count": 16,
      "outputs": []
    },
    {
      "cell_type": "code",
      "metadata": {
        "id": "hQRju_lEZhyT"
      },
      "source": [
        "#reshape into X = t, t+1, t+2, t+3 and Y = t+4\n",
        "time_step = 100\n",
        "X_train , y_train = create_dataset(train_data, time_step)\n",
        "X_test , y_test = create_dataset(test_data, time_step)"
      ],
      "execution_count": 17,
      "outputs": []
    },
    {
      "cell_type": "code",
      "metadata": {
        "colab": {
          "base_uri": "https://localhost:8080/"
        },
        "id": "eGWpcXn8oSnu",
        "outputId": "561abf6d-e11c-41a8-cd86-551eaa7e0b6e"
      },
      "source": [
        "X_train.shape"
      ],
      "execution_count": 18,
      "outputs": [
        {
          "output_type": "execute_result",
          "data": {
            "text/plain": [
              "(716, 100)"
            ]
          },
          "metadata": {
            "tags": []
          },
          "execution_count": 18
        }
      ]
    },
    {
      "cell_type": "code",
      "metadata": {
        "id": "HbH-J0uqezHq"
      },
      "source": [
        "# reshape input to be [sasmples, time steps, features] which is required in LSTM\n",
        "\n",
        "X_train = X_train.reshape(X_train.shape[0], X_train.shape[1],1)\n",
        "X_test = X_test.reshape(X_test.shape[0], X_test.shape[1],1)"
      ],
      "execution_count": 19,
      "outputs": []
    },
    {
      "cell_type": "code",
      "metadata": {
        "id": "yHGFucT3b-d6"
      },
      "source": [
        "model = Sequential()\n",
        "model.add(LSTM(50,return_sequences = True, input_shape = (100,1)))\n",
        "model.add(LSTM(50,return_sequences = True))\n",
        "model.add(LSTM(50))\n",
        "model.add(Dense(1))\n",
        "model.compile(loss = 'mean_squared_error', optimizer ='adam')"
      ],
      "execution_count": 20,
      "outputs": []
    },
    {
      "cell_type": "code",
      "metadata": {
        "colab": {
          "base_uri": "https://localhost:8080/"
        },
        "id": "lxUqeHI7cIyK",
        "outputId": "af589c37-8640-46e6-8a79-64da2edebbbc"
      },
      "source": [
        "model.summary()"
      ],
      "execution_count": 21,
      "outputs": [
        {
          "output_type": "stream",
          "text": [
            "Model: \"sequential\"\n",
            "_________________________________________________________________\n",
            "Layer (type)                 Output Shape              Param #   \n",
            "=================================================================\n",
            "lstm (LSTM)                  (None, 100, 50)           10400     \n",
            "_________________________________________________________________\n",
            "lstm_1 (LSTM)                (None, 100, 50)           20200     \n",
            "_________________________________________________________________\n",
            "lstm_2 (LSTM)                (None, 50)                20200     \n",
            "_________________________________________________________________\n",
            "dense (Dense)                (None, 1)                 51        \n",
            "=================================================================\n",
            "Total params: 50,851\n",
            "Trainable params: 50,851\n",
            "Non-trainable params: 0\n",
            "_________________________________________________________________\n"
          ],
          "name": "stdout"
        }
      ]
    },
    {
      "cell_type": "code",
      "metadata": {
        "colab": {
          "base_uri": "https://localhost:8080/"
        },
        "id": "m0jFc21IcOVl",
        "outputId": "f897a031-3f8f-48a3-a8ee-30137254cebe"
      },
      "source": [
        "model.fit(X_train,y_train,validation_data=(X_test,y_test),epochs=100,batch_size=64,verbose=1)"
      ],
      "execution_count": 22,
      "outputs": [
        {
          "output_type": "stream",
          "text": [
            "Epoch 1/100\n",
            "12/12 [==============================] - 9s 289ms/step - loss: 0.0368 - val_loss: 0.0281\n",
            "Epoch 2/100\n",
            "12/12 [==============================] - 2s 174ms/step - loss: 0.0030 - val_loss: 0.0312\n",
            "Epoch 3/100\n",
            "12/12 [==============================] - 2s 175ms/step - loss: 0.0022 - val_loss: 0.0326\n",
            "Epoch 4/100\n",
            "12/12 [==============================] - 2s 175ms/step - loss: 0.0013 - val_loss: 0.0068\n",
            "Epoch 5/100\n",
            "12/12 [==============================] - 2s 179ms/step - loss: 6.9322e-04 - val_loss: 0.0031\n",
            "Epoch 6/100\n",
            "12/12 [==============================] - 2s 173ms/step - loss: 6.4216e-04 - val_loss: 0.0030\n",
            "Epoch 7/100\n",
            "12/12 [==============================] - 2s 178ms/step - loss: 6.2198e-04 - val_loss: 0.0031\n",
            "Epoch 8/100\n",
            "12/12 [==============================] - 2s 177ms/step - loss: 5.5641e-04 - val_loss: 0.0039\n",
            "Epoch 9/100\n",
            "12/12 [==============================] - 2s 175ms/step - loss: 5.6305e-04 - val_loss: 0.0036\n",
            "Epoch 10/100\n",
            "12/12 [==============================] - 2s 178ms/step - loss: 4.8320e-04 - val_loss: 0.0034\n",
            "Epoch 11/100\n",
            "12/12 [==============================] - 2s 178ms/step - loss: 5.3570e-04 - val_loss: 0.0043\n",
            "Epoch 12/100\n",
            "12/12 [==============================] - 2s 186ms/step - loss: 5.1368e-04 - val_loss: 0.0041\n",
            "Epoch 13/100\n",
            "12/12 [==============================] - 2s 188ms/step - loss: 5.2403e-04 - val_loss: 0.0030\n",
            "Epoch 14/100\n",
            "12/12 [==============================] - 2s 189ms/step - loss: 5.5604e-04 - val_loss: 0.0036\n",
            "Epoch 15/100\n",
            "12/12 [==============================] - 2s 189ms/step - loss: 4.9055e-04 - val_loss: 0.0037\n",
            "Epoch 16/100\n",
            "12/12 [==============================] - 2s 190ms/step - loss: 4.9323e-04 - val_loss: 0.0032\n",
            "Epoch 17/100\n",
            "12/12 [==============================] - 2s 189ms/step - loss: 4.9856e-04 - val_loss: 0.0057\n",
            "Epoch 18/100\n",
            "12/12 [==============================] - 2s 185ms/step - loss: 5.6241e-04 - val_loss: 0.0063\n",
            "Epoch 19/100\n",
            "12/12 [==============================] - 2s 186ms/step - loss: 4.8120e-04 - val_loss: 0.0052\n",
            "Epoch 20/100\n",
            "12/12 [==============================] - 2s 186ms/step - loss: 4.7299e-04 - val_loss: 0.0036\n",
            "Epoch 21/100\n",
            "12/12 [==============================] - 2s 188ms/step - loss: 4.9263e-04 - val_loss: 0.0033\n",
            "Epoch 22/100\n",
            "12/12 [==============================] - 2s 187ms/step - loss: 4.8865e-04 - val_loss: 0.0046\n",
            "Epoch 23/100\n",
            "12/12 [==============================] - 2s 190ms/step - loss: 4.1011e-04 - val_loss: 0.0050\n",
            "Epoch 24/100\n",
            "12/12 [==============================] - 2s 189ms/step - loss: 4.3087e-04 - val_loss: 0.0055\n",
            "Epoch 25/100\n",
            "12/12 [==============================] - 2s 194ms/step - loss: 4.1707e-04 - val_loss: 0.0059\n",
            "Epoch 26/100\n",
            "12/12 [==============================] - 2s 190ms/step - loss: 4.5841e-04 - val_loss: 0.0061\n",
            "Epoch 27/100\n",
            "12/12 [==============================] - 2s 194ms/step - loss: 4.2605e-04 - val_loss: 0.0080\n",
            "Epoch 28/100\n",
            "12/12 [==============================] - 2s 188ms/step - loss: 3.9646e-04 - val_loss: 0.0084\n",
            "Epoch 29/100\n",
            "12/12 [==============================] - 2s 193ms/step - loss: 4.1245e-04 - val_loss: 0.0063\n",
            "Epoch 30/100\n",
            "12/12 [==============================] - 2s 195ms/step - loss: 4.8075e-04 - val_loss: 0.0099\n",
            "Epoch 31/100\n",
            "12/12 [==============================] - 2s 200ms/step - loss: 4.3427e-04 - val_loss: 0.0092\n",
            "Epoch 32/100\n",
            "12/12 [==============================] - 2s 199ms/step - loss: 4.3436e-04 - val_loss: 0.0072\n",
            "Epoch 33/100\n",
            "12/12 [==============================] - 2s 198ms/step - loss: 4.2447e-04 - val_loss: 0.0100\n",
            "Epoch 34/100\n",
            "12/12 [==============================] - 2s 195ms/step - loss: 3.8877e-04 - val_loss: 0.0104\n",
            "Epoch 35/100\n",
            "12/12 [==============================] - 2s 191ms/step - loss: 3.8074e-04 - val_loss: 0.0110\n",
            "Epoch 36/100\n",
            "12/12 [==============================] - 2s 198ms/step - loss: 3.6976e-04 - val_loss: 0.0116\n",
            "Epoch 37/100\n",
            "12/12 [==============================] - 2s 191ms/step - loss: 3.9393e-04 - val_loss: 0.0117\n",
            "Epoch 38/100\n",
            "12/12 [==============================] - 2s 189ms/step - loss: 4.7411e-04 - val_loss: 0.0154\n",
            "Epoch 39/100\n",
            "12/12 [==============================] - 2s 186ms/step - loss: 4.3780e-04 - val_loss: 0.0093\n",
            "Epoch 40/100\n",
            "12/12 [==============================] - 2s 189ms/step - loss: 4.5125e-04 - val_loss: 0.0092\n",
            "Epoch 41/100\n",
            "12/12 [==============================] - 2s 186ms/step - loss: 4.4996e-04 - val_loss: 0.0147\n",
            "Epoch 42/100\n",
            "12/12 [==============================] - 2s 192ms/step - loss: 4.2794e-04 - val_loss: 0.0117\n",
            "Epoch 43/100\n",
            "12/12 [==============================] - 2s 191ms/step - loss: 4.0545e-04 - val_loss: 0.0091\n",
            "Epoch 44/100\n",
            "12/12 [==============================] - 2s 185ms/step - loss: 3.9498e-04 - val_loss: 0.0129\n",
            "Epoch 45/100\n",
            "12/12 [==============================] - 2s 187ms/step - loss: 4.6417e-04 - val_loss: 0.0166\n",
            "Epoch 46/100\n",
            "12/12 [==============================] - 2s 192ms/step - loss: 4.0383e-04 - val_loss: 0.0122\n",
            "Epoch 47/100\n",
            "12/12 [==============================] - 2s 197ms/step - loss: 3.8547e-04 - val_loss: 0.0100\n",
            "Epoch 48/100\n",
            "12/12 [==============================] - 2s 190ms/step - loss: 3.4678e-04 - val_loss: 0.0120\n",
            "Epoch 49/100\n",
            "12/12 [==============================] - 2s 189ms/step - loss: 3.7540e-04 - val_loss: 0.0096\n",
            "Epoch 50/100\n",
            "12/12 [==============================] - 2s 190ms/step - loss: 3.4086e-04 - val_loss: 0.0149\n",
            "Epoch 51/100\n",
            "12/12 [==============================] - 2s 190ms/step - loss: 3.8676e-04 - val_loss: 0.0114\n",
            "Epoch 52/100\n",
            "12/12 [==============================] - 2s 191ms/step - loss: 3.4969e-04 - val_loss: 0.0100\n",
            "Epoch 53/100\n",
            "12/12 [==============================] - 2s 186ms/step - loss: 3.3019e-04 - val_loss: 0.0113\n",
            "Epoch 54/100\n",
            "12/12 [==============================] - 2s 189ms/step - loss: 3.1742e-04 - val_loss: 0.0111\n",
            "Epoch 55/100\n",
            "12/12 [==============================] - 2s 189ms/step - loss: 3.2794e-04 - val_loss: 0.0084\n",
            "Epoch 56/100\n",
            "12/12 [==============================] - 2s 185ms/step - loss: 3.6940e-04 - val_loss: 0.0112\n",
            "Epoch 57/100\n",
            "12/12 [==============================] - 2s 189ms/step - loss: 3.4202e-04 - val_loss: 0.0141\n",
            "Epoch 58/100\n",
            "12/12 [==============================] - 2s 186ms/step - loss: 3.3367e-04 - val_loss: 0.0122\n",
            "Epoch 59/100\n",
            "12/12 [==============================] - 2s 191ms/step - loss: 3.3532e-04 - val_loss: 0.0094\n",
            "Epoch 60/100\n",
            "12/12 [==============================] - 2s 189ms/step - loss: 3.3770e-04 - val_loss: 0.0072\n",
            "Epoch 61/100\n",
            "12/12 [==============================] - 2s 191ms/step - loss: 3.4027e-04 - val_loss: 0.0135\n",
            "Epoch 62/100\n",
            "12/12 [==============================] - 2s 194ms/step - loss: 3.5547e-04 - val_loss: 0.0114\n",
            "Epoch 63/100\n",
            "12/12 [==============================] - 2s 195ms/step - loss: 2.9374e-04 - val_loss: 0.0089\n",
            "Epoch 64/100\n",
            "12/12 [==============================] - 2s 192ms/step - loss: 3.0239e-04 - val_loss: 0.0095\n",
            "Epoch 65/100\n",
            "12/12 [==============================] - 2s 192ms/step - loss: 3.1265e-04 - val_loss: 0.0085\n",
            "Epoch 66/100\n",
            "12/12 [==============================] - 2s 193ms/step - loss: 2.7255e-04 - val_loss: 0.0086\n",
            "Epoch 67/100\n",
            "12/12 [==============================] - 2s 194ms/step - loss: 3.0086e-04 - val_loss: 0.0091\n",
            "Epoch 68/100\n",
            "12/12 [==============================] - 2s 189ms/step - loss: 3.0000e-04 - val_loss: 0.0100\n",
            "Epoch 69/100\n",
            "12/12 [==============================] - 2s 191ms/step - loss: 3.0002e-04 - val_loss: 0.0043\n",
            "Epoch 70/100\n",
            "12/12 [==============================] - 2s 193ms/step - loss: 3.7872e-04 - val_loss: 0.0125\n",
            "Epoch 71/100\n",
            "12/12 [==============================] - 2s 190ms/step - loss: 3.3286e-04 - val_loss: 0.0078\n",
            "Epoch 72/100\n",
            "12/12 [==============================] - 2s 194ms/step - loss: 2.8003e-04 - val_loss: 0.0071\n",
            "Epoch 73/100\n",
            "12/12 [==============================] - 2s 192ms/step - loss: 2.7116e-04 - val_loss: 0.0073\n",
            "Epoch 74/100\n",
            "12/12 [==============================] - 2s 187ms/step - loss: 2.7546e-04 - val_loss: 0.0096\n",
            "Epoch 75/100\n",
            "12/12 [==============================] - 2s 190ms/step - loss: 2.7541e-04 - val_loss: 0.0072\n",
            "Epoch 76/100\n",
            "12/12 [==============================] - 2s 190ms/step - loss: 2.4964e-04 - val_loss: 0.0061\n",
            "Epoch 77/100\n",
            "12/12 [==============================] - 2s 188ms/step - loss: 2.6647e-04 - val_loss: 0.0049\n",
            "Epoch 78/100\n",
            "12/12 [==============================] - 2s 192ms/step - loss: 2.7547e-04 - val_loss: 0.0073\n",
            "Epoch 79/100\n",
            "12/12 [==============================] - 2s 186ms/step - loss: 2.5690e-04 - val_loss: 0.0066\n",
            "Epoch 80/100\n",
            "12/12 [==============================] - 2s 191ms/step - loss: 2.3169e-04 - val_loss: 0.0067\n",
            "Epoch 81/100\n",
            "12/12 [==============================] - 2s 186ms/step - loss: 2.2826e-04 - val_loss: 0.0086\n",
            "Epoch 82/100\n",
            "12/12 [==============================] - 2s 193ms/step - loss: 2.4159e-04 - val_loss: 0.0037\n",
            "Epoch 83/100\n",
            "12/12 [==============================] - 2s 184ms/step - loss: 2.4793e-04 - val_loss: 0.0088\n",
            "Epoch 84/100\n",
            "12/12 [==============================] - 2s 187ms/step - loss: 2.5493e-04 - val_loss: 0.0035\n",
            "Epoch 85/100\n",
            "12/12 [==============================] - 2s 190ms/step - loss: 2.3309e-04 - val_loss: 0.0080\n",
            "Epoch 86/100\n",
            "12/12 [==============================] - 2s 188ms/step - loss: 2.2396e-04 - val_loss: 0.0070\n",
            "Epoch 87/100\n",
            "12/12 [==============================] - 2s 191ms/step - loss: 2.0843e-04 - val_loss: 0.0084\n",
            "Epoch 88/100\n",
            "12/12 [==============================] - 2s 194ms/step - loss: 2.0240e-04 - val_loss: 0.0054\n",
            "Epoch 89/100\n",
            "12/12 [==============================] - 2s 190ms/step - loss: 2.1653e-04 - val_loss: 0.0038\n",
            "Epoch 90/100\n",
            "12/12 [==============================] - 2s 189ms/step - loss: 2.0015e-04 - val_loss: 0.0079\n",
            "Epoch 91/100\n",
            "12/12 [==============================] - 2s 192ms/step - loss: 2.3097e-04 - val_loss: 0.0026\n",
            "Epoch 92/100\n",
            "12/12 [==============================] - 2s 189ms/step - loss: 2.3070e-04 - val_loss: 0.0043\n",
            "Epoch 93/100\n",
            "12/12 [==============================] - 2s 188ms/step - loss: 1.9069e-04 - val_loss: 0.0108\n",
            "Epoch 94/100\n",
            "12/12 [==============================] - 2s 186ms/step - loss: 2.6320e-04 - val_loss: 0.0035\n",
            "Epoch 95/100\n",
            "12/12 [==============================] - 2s 189ms/step - loss: 2.1704e-04 - val_loss: 0.0072\n",
            "Epoch 96/100\n",
            "12/12 [==============================] - 2s 186ms/step - loss: 2.0395e-04 - val_loss: 0.0036\n",
            "Epoch 97/100\n",
            "12/12 [==============================] - 2s 192ms/step - loss: 2.2806e-04 - val_loss: 0.0062\n",
            "Epoch 98/100\n",
            "12/12 [==============================] - 2s 188ms/step - loss: 1.9235e-04 - val_loss: 0.0107\n",
            "Epoch 99/100\n",
            "12/12 [==============================] - 2s 186ms/step - loss: 2.2923e-04 - val_loss: 0.0036\n",
            "Epoch 100/100\n",
            "12/12 [==============================] - 2s 191ms/step - loss: 2.0503e-04 - val_loss: 0.0071\n"
          ],
          "name": "stdout"
        },
        {
          "output_type": "execute_result",
          "data": {
            "text/plain": [
              "<tensorflow.python.keras.callbacks.History at 0x7f72e288b1d0>"
            ]
          },
          "metadata": {
            "tags": []
          },
          "execution_count": 22
        }
      ]
    },
    {
      "cell_type": "code",
      "metadata": {
        "id": "e8H6gbS2cXA9"
      },
      "source": [
        "# Lets Do the prediction and check the performance metrics\n",
        "train_pred = model.predict(X_train)\n",
        "test_pred = model.predict(X_test)"
      ],
      "execution_count": 23,
      "outputs": []
    },
    {
      "cell_type": "code",
      "metadata": {
        "id": "jNabQFTgeaZs"
      },
      "source": [
        "# Transformback to original Data\n",
        "train_pred = scaler.inverse_transform(train_pred)\n",
        "test_pred = scaler.inverse_transform(test_pred)"
      ],
      "execution_count": 24,
      "outputs": []
    },
    {
      "cell_type": "code",
      "metadata": {
        "id": "hEsb-3Q8davg",
        "colab": {
          "base_uri": "https://localhost:8080/"
        },
        "outputId": "6fc02dfe-7cb8-4081-8146-561d346532b4"
      },
      "source": [
        "from sklearn.metrics import mean_squared_error,mean_absolute_error\n",
        "np.sqrt(mean_squared_error(y_test, test_pred))"
      ],
      "execution_count": 28,
      "outputs": [
        {
          "output_type": "execute_result",
          "data": {
            "text/plain": [
              "1479.257663709962"
            ]
          },
          "metadata": {
            "tags": []
          },
          "execution_count": 28
        }
      ]
    },
    {
      "cell_type": "code",
      "metadata": {
        "colab": {
          "base_uri": "https://localhost:8080/",
          "height": 265
        },
        "id": "yhRERDj3g_iE",
        "outputId": "3c1f5ac2-65ed-4d23-ec76-0aefbf323ac2"
      },
      "source": [
        "look_back=100\n",
        "train_predictPlot=np.empty_like(series)\n",
        "train_predictPlot[:,:]=np.nan\n",
        "train_predictPlot[look_back:len(train_pred)+look_back,:]=train_pred\n",
        "#shift test predictions for plotting\n",
        "testPredictPlot=np.empty_like(series)\n",
        "testPredictPlot[:,:]=np.nan\n",
        "testPredictPlot[len(train_pred)+(look_back*2)+1:len(series)-1,:]=test_pred\n",
        "#plot baseline and predictions\n",
        "plt.plot(scaler.inverse_transform(series))\n",
        "plt.plot(train_predictPlot)\n",
        "plt.plot(testPredictPlot)\n",
        "plt.show()"
      ],
      "execution_count": 33,
      "outputs": [
        {
          "output_type": "display_data",
          "data": {
            "image/png": "[encoded data removed]",
            "text/plain": [
              "<Figure size 432x288 with 1 Axes>"
            ]
          },
          "metadata": {
            "tags": [],
            "needs_background": "light"
          }
        }
      ]
    },
    {
      "cell_type": "code",
      "metadata": {
        "id": "EnMPfqOAhONm"
      },
      "source": [
        ""
      ],
      "execution_count": null,
      "outputs": []
    }
  ]
}